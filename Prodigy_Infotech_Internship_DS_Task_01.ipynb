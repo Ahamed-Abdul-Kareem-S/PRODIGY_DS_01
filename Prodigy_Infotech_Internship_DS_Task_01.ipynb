{
 "cells": [
  {
   "cell_type": "markdown",
   "id": "5141d4f1",
   "metadata": {},
   "source": [
    "# Data Science Task 1\n",
    "\n",
    "<i>Create a bar chart or histogram to visualize the distribution of a categorical or continuous variable, such as the distribution of ages or genders in a population."
   ]
  },
  {
   "cell_type": "markdown",
   "id": "3565fbe4",
   "metadata": {},
   "source": [
    "## Importing necessary libraries"
   ]
  },
  {
   "cell_type": "code",
   "execution_count": 63,
   "id": "6848cec7",
   "metadata": {},
   "outputs": [],
   "source": [
    "import pandas as pd\n",
    "import numpy as np\n",
    "import matplotlib.pyplot as plt\n",
    "import seaborn as sns"
   ]
  },
  {
   "cell_type": "markdown",
   "id": "04be41fa",
   "metadata": {},
   "source": [
    "## Reading the dataset"
   ]
  },
  {
   "cell_type": "code",
   "execution_count": 110,
   "id": "0338aad5",
   "metadata": {},
   "outputs": [],
   "source": [
    "df = pd.read_csv(r\"C:\\Users\\COLLAGE\\Downloads\\Prodigy_InfoTech\\Task_1\\WorldBank.xlsx\")"
   ]
  },
  {
   "cell_type": "markdown",
   "id": "f7e38ed7",
   "metadata": {},
   "source": [
    "## Checking the shape of the dataset"
   ]
  },
  {
   "cell_type": "code",
   "execution_count": 113,
   "id": "84d08646",
   "metadata": {},
   "outputs": [
    {
     "data": {
      "text/plain": [
       "(1085, 26)"
      ]
     },
     "execution_count": 113,
     "metadata": {},
     "output_type": "execute_result"
    }
   ],
   "source": [
    "df.shape"
   ]
  },
  {
   "cell_type": "markdown",
   "id": "10d7ace9",
   "metadata": {},
   "source": [
    "## Checking the columns of the dataset"
   ]
  },
  {
   "cell_type": "code",
   "execution_count": 114,
   "id": "a761e3c8",
   "metadata": {},
   "outputs": [
    {
     "data": {
      "text/plain": [
       "Index(['Series Name', 'Series Code', 'Country Name', 'Country Code', '2022',\n",
       "       '2021', '2020', '2019', '2018', '2017', '2016', '2015', '2014', '2013',\n",
       "       '2012', '2011', '2010', '2009', '2008', '2007', '2006', '2005', '2004',\n",
       "       '2003', '2002', '2001'],\n",
       "      dtype='object')"
      ]
     },
     "execution_count": 114,
     "metadata": {},
     "output_type": "execute_result"
    }
   ],
   "source": [
    "df.columns"
   ]
  },
  {
   "cell_type": "markdown",
   "id": "89b15988",
   "metadata": {},
   "source": [
    "## Checking unique values for columns"
   ]
  },
  {
   "cell_type": "code",
   "execution_count": 119,
   "id": "fde16040",
   "metadata": {},
   "outputs": [
    {
     "name": "stdout",
     "output_type": "stream",
     "text": [
      "['Afghanistan' 'Albania' 'Algeria' 'American Samoa' 'Andorra' 'Angola'\n",
      " 'Antigua and Barbuda' 'Argentina' 'Armenia' 'Aruba' 'Australia' 'Austria'\n",
      " 'Azerbaijan' 'Bahamas, The' 'Bahrain' 'Bangladesh' 'Barbados' 'Belarus'\n",
      " 'Belgium' 'Belize' 'Benin' 'Bermuda' 'Bhutan' 'Bolivia'\n",
      " 'Bosnia and Herzegovina' 'Botswana' 'Brazil' 'British Virgin Islands'\n",
      " 'Brunei Darussalam' 'Bulgaria' 'Burkina Faso' 'Burundi' 'Cabo Verde'\n",
      " 'Cambodia' 'Cameroon' 'Canada' 'Cayman Islands'\n",
      " 'Central African Republic' 'Chad' 'Channel Islands' 'Chile' 'China'\n",
      " 'Colombia' 'Comoros' 'Congo, Dem. Rep.' 'Congo, Rep.' 'Costa Rica'\n",
      " \"Cote d'Ivoire\" 'Croatia' 'Cuba' 'Curacao' 'Cyprus' 'Czechia' 'Denmark'\n",
      " 'Djibouti' 'Dominica' 'Dominican Republic' 'Ecuador' 'Egypt, Arab Rep.'\n",
      " 'El Salvador' 'Equatorial Guinea' 'Eritrea' 'Estonia' 'Eswatini'\n",
      " 'Ethiopia' 'Faroe Islands' 'Fiji' 'Finland' 'France' 'French Polynesia'\n",
      " 'Gabon' 'Gambia, The' 'Georgia' 'Germany' 'Ghana' 'Gibraltar' 'Greece'\n",
      " 'Greenland' 'Grenada' 'Guam' 'Guatemala' 'Guinea' 'Guinea-Bissau'\n",
      " 'Guyana' 'Haiti' 'Honduras' 'Hong Kong SAR, China' 'Hungary' 'Iceland'\n",
      " 'India' 'Indonesia' 'Iran, Islamic Rep.' 'Iraq' 'Ireland' 'Isle of Man'\n",
      " 'Israel' 'Italy' 'Jamaica' 'Japan' 'Jordan' 'Kazakhstan' 'Kenya'\n",
      " 'Kiribati' \"Korea, Dem. People's Rep.\" 'Korea, Rep.' 'Kosovo' 'Kuwait'\n",
      " 'Kyrgyz Republic' 'Lao PDR' 'Latvia' 'Lebanon' 'Lesotho' 'Liberia'\n",
      " 'Libya' 'Liechtenstein' 'Lithuania' 'Luxembourg' 'Macao SAR, China'\n",
      " 'Madagascar' 'Malawi' 'Malaysia' 'Maldives' 'Mali' 'Malta'\n",
      " 'Marshall Islands' 'Mauritania' 'Mauritius' 'Mexico'\n",
      " 'Micronesia, Fed. Sts.' 'Moldova' 'Monaco' 'Mongolia' 'Montenegro'\n",
      " 'Morocco' 'Mozambique' 'Myanmar' 'Namibia' 'Nauru' 'Nepal' 'Netherlands'\n",
      " 'New Caledonia' 'New Zealand' 'Nicaragua' 'Niger' 'Nigeria'\n",
      " 'North Macedonia' 'Northern Mariana Islands' 'Norway' 'Oman' 'Pakistan'\n",
      " 'Palau' 'Panama' 'Papua New Guinea' 'Paraguay' 'Peru' 'Philippines'\n",
      " 'Poland' 'Portugal' 'Puerto Rico' 'Qatar' 'Romania' 'Russian Federation'\n",
      " 'Rwanda' 'Samoa' 'San Marino' 'Sao Tome and Principe' 'Saudi Arabia'\n",
      " 'Senegal' 'Serbia' 'Seychelles' 'Sierra Leone' 'Singapore'\n",
      " 'Sint Maarten (Dutch part)' 'Slovak Republic' 'Slovenia'\n",
      " 'Solomon Islands' 'Somalia' 'South Africa' 'South Sudan' 'Spain'\n",
      " 'Sri Lanka' 'St. Kitts and Nevis' 'St. Lucia' 'St. Martin (French part)'\n",
      " 'St. Vincent and the Grenadines' 'Sudan' 'Suriname' 'Sweden'\n",
      " 'Switzerland' 'Syrian Arab Republic' 'Tajikistan' 'Tanzania' 'Thailand'\n",
      " 'Timor-Leste' 'Togo' 'Tonga' 'Trinidad and Tobago' 'Tunisia' 'Turkiye'\n",
      " 'Turkmenistan' 'Turks and Caicos Islands' 'Tuvalu' 'Uganda' 'Ukraine'\n",
      " 'United Arab Emirates' 'United Kingdom' 'United States' 'Uruguay'\n",
      " 'Uzbekistan' 'Vanuatu' 'Venezuela, RB' 'Vietnam' 'Virgin Islands (U.S.)'\n",
      " 'West Bank and Gaza' 'Yemen, Rep.' 'Zambia' 'Zimbabwe']\n",
      "\n",
      "Total no of unique countries: 217\n"
     ]
    }
   ],
   "source": [
    "print(df['Country Name'].unique())\n",
    "print(\"\\nTotal no of unique countries:\",df['Country Name'].nunique())"
   ]
  },
  {
   "cell_type": "code",
   "execution_count": 120,
   "id": "855aef6d",
   "metadata": {},
   "outputs": [
    {
     "name": "stdout",
     "output_type": "stream",
     "text": [
      "['AFG' 'ALB' 'DZA' 'ASM' 'AND' 'AGO' 'ATG' 'ARG' 'ARM' 'ABW' 'AUS' 'AUT'\n",
      " 'AZE' 'BHS' 'BHR' 'BGD' 'BRB' 'BLR' 'BEL' 'BLZ' 'BEN' 'BMU' 'BTN' 'BOL'\n",
      " 'BIH' 'BWA' 'BRA' 'VGB' 'BRN' 'BGR' 'BFA' 'BDI' 'CPV' 'KHM' 'CMR' 'CAN'\n",
      " 'CYM' 'CAF' 'TCD' 'CHI' 'CHL' 'CHN' 'COL' 'COM' 'COD' 'COG' 'CRI' 'CIV'\n",
      " 'HRV' 'CUB' 'CUW' 'CYP' 'CZE' 'DNK' 'DJI' 'DMA' 'DOM' 'ECU' 'EGY' 'SLV'\n",
      " 'GNQ' 'ERI' 'EST' 'SWZ' 'ETH' 'FRO' 'FJI' 'FIN' 'FRA' 'PYF' 'GAB' 'GMB'\n",
      " 'GEO' 'DEU' 'GHA' 'GIB' 'GRC' 'GRL' 'GRD' 'GUM' 'GTM' 'GIN' 'GNB' 'GUY'\n",
      " 'HTI' 'HND' 'HKG' 'HUN' 'ISL' 'IND' 'IDN' 'IRN' 'IRQ' 'IRL' 'IMN' 'ISR'\n",
      " 'ITA' 'JAM' 'JPN' 'JOR' 'KAZ' 'KEN' 'KIR' 'PRK' 'KOR' 'XKX' 'KWT' 'KGZ'\n",
      " 'LAO' 'LVA' 'LBN' 'LSO' 'LBR' 'LBY' 'LIE' 'LTU' 'LUX' 'MAC' 'MDG' 'MWI'\n",
      " 'MYS' 'MDV' 'MLI' 'MLT' 'MHL' 'MRT' 'MUS' 'MEX' 'FSM' 'MDA' 'MCO' 'MNG'\n",
      " 'MNE' 'MAR' 'MOZ' 'MMR' 'NAM' 'NRU' 'NPL' 'NLD' 'NCL' 'NZL' 'NIC' 'NER'\n",
      " 'NGA' 'MKD' 'MNP' 'NOR' 'OMN' 'PAK' 'PLW' 'PAN' 'PNG' 'PRY' 'PER' 'PHL'\n",
      " 'POL' 'PRT' 'PRI' 'QAT' 'ROU' 'RUS' 'RWA' 'WSM' 'SMR' 'STP' 'SAU' 'SEN'\n",
      " 'SRB' 'SYC' 'SLE' 'SGP' 'SXM' 'SVK' 'SVN' 'SLB' 'SOM' 'ZAF' 'SSD' 'ESP'\n",
      " 'LKA' 'KNA' 'LCA' 'MAF' 'VCT' 'SDN' 'SUR' 'SWE' 'CHE' 'SYR' 'TJK' 'TZA'\n",
      " 'THA' 'TLS' 'TGO' 'TON' 'TTO' 'TUN' 'TUR' 'TKM' 'TCA' 'TUV' 'UGA' 'UKR'\n",
      " 'ARE' 'GBR' 'USA' 'URY' 'UZB' 'VUT' 'VEN' 'VNM' 'VIR' 'PSE' 'YEM' 'ZMB'\n",
      " 'ZWE']\n",
      "\n",
      "Total no of unique country code: 217\n"
     ]
    }
   ],
   "source": [
    "print(df['Country Code'].unique())\n",
    "print(\"\\nTotal no of unique country code:\",df['Country Code'].nunique())"
   ]
  },
  {
   "cell_type": "code",
   "execution_count": 122,
   "id": "c8fc7cb9",
   "metadata": {},
   "outputs": [
    {
     "data": {
      "text/plain": [
       "array(['Population, total', 'Population, female', 'Population, male',\n",
       "       'Population, female (% of total population)',\n",
       "       'Population, male (% of total population)'], dtype=object)"
      ]
     },
     "execution_count": 122,
     "metadata": {},
     "output_type": "execute_result"
    }
   ],
   "source": [
    "df['Series Name'].unique()"
   ]
  },
  {
   "cell_type": "code",
   "execution_count": 123,
   "id": "626f2a82",
   "metadata": {},
   "outputs": [
    {
     "data": {
      "text/plain": [
       "array(['SP.POP.TOTL', 'SP.POP.TOTL.FE.IN', 'SP.POP.TOTL.MA.IN',\n",
       "       'SP.POP.TOTL.FE.ZS', 'SP.POP.TOTL.MA.ZS'], dtype=object)"
      ]
     },
     "execution_count": 123,
     "metadata": {},
     "output_type": "execute_result"
    }
   ],
   "source": [
    "df['Series Code'].unique()"
   ]
  },
  {
   "cell_type": "markdown",
   "id": "95c630f1",
   "metadata": {},
   "source": [
    "## Dropping unnecessary columns"
   ]
  },
  {
   "cell_type": "code",
   "execution_count": 124,
   "id": "45802906",
   "metadata": {},
   "outputs": [],
   "source": [
    "df.drop(['Series Name','Country Code'],axis=1,inplace=True)"
   ]
  },
  {
   "cell_type": "code",
   "execution_count": 125,
   "id": "bbc80dbd",
   "metadata": {},
   "outputs": [
    {
     "data": {
      "text/plain": [
       "Index(['Series Code', 'Country Name', '2022', '2021', '2020', '2019', '2018',\n",
       "       '2017', '2016', '2015', '2014', '2013', '2012', '2011', '2010', '2009',\n",
       "       '2008', '2007', '2006', '2005', '2004', '2003', '2002', '2001'],\n",
       "      dtype='object')"
      ]
     },
     "execution_count": 125,
     "metadata": {},
     "output_type": "execute_result"
    }
   ],
   "source": [
    "df.columns"
   ]
  },
  {
   "cell_type": "markdown",
   "id": "8b3aefad",
   "metadata": {},
   "source": [
    "## Extraction of top-10 countries with respect to total population"
   ]
  },
  {
   "cell_type": "code",
   "execution_count": 156,
   "id": "9add2e76",
   "metadata": {},
   "outputs": [
    {
     "name": "stdout",
     "output_type": "stream",
     "text": [
      "Top ten countries of total population\n",
      "\n",
      "           Country Name\n",
      "89                India\n",
      "41                China\n",
      "206       United States\n",
      "90            Indonesia\n",
      "149            Pakistan\n",
      "144             Nigeria\n",
      "26               Brazil\n",
      "15           Bangladesh\n",
      "161  Russian Federation\n",
      "127              Mexico\n"
     ]
    }
   ],
   "source": [
    "# Filter data for total population\n",
    "total_population_data = df[df['Series Code'] == 'SP.POP.TOTL']\n",
    "\n",
    "# Sort data based on the total population for 2022\n",
    "total_population_sorted = total_population_data.sort_values(by=\"2022\", ascending=False)\n",
    "\n",
    "# Get the top ten countries with the highest total population for 2022\n",
    "total_top_ten_countries = total_population_sorted.head(10)\n",
    "print(\"Top ten countries of total population\\n\")\n",
    "print(total_top_ten_countries[['Country Name']] )"
   ]
  },
  {
   "cell_type": "markdown",
   "id": "62db659a",
   "metadata": {},
   "source": [
    "# Bar Plot\n",
    "\n",
    "## Top ten countries of total population in year 2022 and 2016"
   ]
  },
  {
   "cell_type": "code",
   "execution_count": 150,
   "id": "5f1a16c7",
   "metadata": {},
   "outputs": [
    {
     "data": {
      "image/png": "[encoded data removed]",
      "text/plain": [
       "<Figure size 1500x600 with 1 Axes>"
      ]
     },
     "metadata": {},
     "output_type": "display_data"
    },
    {
     "data": {
      "image/png": "[encoded data removed]",
      "text/plain": [
       "<Figure size 1500x600 with 1 Axes>"
      ]
     },
     "metadata": {},
     "output_type": "display_data"
    }
   ],
   "source": [
    "# Create the bar plot\n",
    "plt.figure(figsize=(15, 6))\n",
    "plt.subplot(2,2,1)\n",
    "sns.barplot(x=\"2022\", y=\"Country Name\", data=total_top_ten_countries, palette=\"coolwarm\")\n",
    "plt.title(\"Top Ten Countries of Total Population (2022)\",fontsize=10)\n",
    "plt.xlabel(\"Total Population\",fontsize=10)\n",
    "plt.ylabel(\"Country\",fontsize=10)\n",
    "plt.show()\n",
    "\n",
    "plt.figure(figsize=(15, 6))\n",
    "plt.subplot(2,2,2)\n",
    "sns.barplot(x=\"2016\", y=\"Country Name\", data=total_top_ten_countries, palette=\"coolwarm\")\n",
    "plt.title(\"Top Ten Countries with Total Population (2016)\",fontsize=10)\n",
    "plt.xlabel(\"Total Population\",fontsize=10)\n",
    "plt.ylabel(\"Country\",fontsize=10)\n",
    "plt.show()\n",
    "\n"
   ]
  },
  {
   "cell_type": "markdown",
   "id": "b6ee29a8",
   "metadata": {},
   "source": [
    "## Extraction of top ten countries with highest female population"
   ]
  },
  {
   "cell_type": "code",
   "execution_count": 162,
   "id": "7f369b40",
   "metadata": {},
   "outputs": [
    {
     "name": "stdout",
     "output_type": "stream",
     "text": [
      "Top ten countries of female population\n",
      "           Country Name\n",
      "258               China\n",
      "306               India\n",
      "423       United States\n",
      "307           Indonesia\n",
      "366            Pakistan\n",
      "243              Brazil\n",
      "361             Nigeria\n",
      "232          Bangladesh\n",
      "378  Russian Federation\n",
      "344              Mexico\n"
     ]
    }
   ],
   "source": [
    "# Filter data for female population\n",
    "female_population_data = df[df[\"Series Code\"] == \"SP.POP.TOTL.FE.IN\"]\n",
    "\n",
    "# Sort data based on the female population for 2022\n",
    "female_population_sorted = female_population_data.sort_values(by=\"2022\", ascending=False)\n",
    "\n",
    "# Get the top ten countries with the highest female population for 2022\n",
    "female_top_ten_countries = female_population_sorted.head(10)\n",
    "print(\"Top ten countries of female population\")\n",
    "print(female_top_ten_countries[['Country Name']] )"
   ]
  },
  {
   "cell_type": "markdown",
   "id": "b2efbab3",
   "metadata": {},
   "source": [
    "## Extraction of top ten countries with lowest female population"
   ]
  },
  {
   "cell_type": "code",
   "execution_count": 169,
   "id": "d3579aea",
   "metadata": {},
   "outputs": [
    {
     "name": "stdout",
     "output_type": "stream",
     "text": [
      "Top ten countries of lowest female population\n",
      "                  Country Name\n",
      "389  Sint Maarten (Dutch part)\n",
      "331              Liechtenstein\n",
      "347                     Monaco\n",
      "381                 San Marino\n",
      "400   St. Martin (French part)\n",
      "292                  Gibraltar\n",
      "244     British Virgin Islands\n",
      "367                      Palau\n",
      "354                      Nauru\n",
      "418                     Tuvalu\n"
     ]
    }
   ],
   "source": [
    "female_lowest_ten_countries = female_population_sorted.tail(10)\n",
    "print(\"Top ten countries of lowest female population\")\n",
    "print(female_lowest_ten_countries[['Country Name']] )"
   ]
  },
  {
   "cell_type": "markdown",
   "id": "a5524dbf",
   "metadata": {},
   "source": [
    "# Stacked Bar Plot\n",
    "\n",
    "## Top 10 Countries with Male and Female Populations (2022)"
   ]
  },
  {
   "cell_type": "code",
   "execution_count": 171,
   "id": "e7114e9c",
   "metadata": {},
   "outputs": [],
   "source": [
    "# Merge male and female population data on 'Country Name'\n",
    "merged_data = pd.merge(male_population_data, female_population_data, on=\"Country Name\", suffixes=(\"_male\", \"_female\"))"
   ]
  },
  {
   "cell_type": "code",
   "execution_count": 172,
   "id": "677f86b7",
   "metadata": {},
   "outputs": [
    {
     "data": {
      "text/html": [
       "<div>\n",
       "<style scoped>\n",
       "    .dataframe tbody tr th:only-of-type {\n",
       "        vertical-align: middle;\n",
       "    }\n",
       "\n",
       "    .dataframe tbody tr th {\n",
       "        vertical-align: top;\n",
       "    }\n",
       "\n",
       "    .dataframe thead th {\n",
       "        text-align: right;\n",
       "    }\n",
       "</style>\n",
       "<table border=\"1\" class=\"dataframe\">\n",
       "  <thead>\n",
       "    <tr style=\"text-align: right;\">\n",
       "      <th></th>\n",
       "      <th>Series Code_male</th>\n",
       "      <th>Country Name</th>\n",
       "      <th>2022_male</th>\n",
       "      <th>2021_male</th>\n",
       "      <th>2020_male</th>\n",
       "      <th>2019_male</th>\n",
       "      <th>2018_male</th>\n",
       "      <th>2017_male</th>\n",
       "      <th>2016_male</th>\n",
       "      <th>2015_male</th>\n",
       "      <th>...</th>\n",
       "      <th>2010_female</th>\n",
       "      <th>2009_female</th>\n",
       "      <th>2008_female</th>\n",
       "      <th>2007_female</th>\n",
       "      <th>2006_female</th>\n",
       "      <th>2005_female</th>\n",
       "      <th>2004_female</th>\n",
       "      <th>2003_female</th>\n",
       "      <th>2002_female</th>\n",
       "      <th>2001_female</th>\n",
       "    </tr>\n",
       "  </thead>\n",
       "  <tbody>\n",
       "    <tr>\n",
       "      <th>0</th>\n",
       "      <td>SP.POP.TOTL.MA.IN</td>\n",
       "      <td>Afghanistan</td>\n",
       "      <td>20766442.0</td>\n",
       "      <td>20254878.0</td>\n",
       "      <td>19692301.0</td>\n",
       "      <td>19090409.0</td>\n",
       "      <td>18549862.0</td>\n",
       "      <td>18028696.0</td>\n",
       "      <td>17520861.0</td>\n",
       "      <td>17071446.0</td>\n",
       "      <td>...</td>\n",
       "      <td>13949295.0</td>\n",
       "      <td>13557331.0</td>\n",
       "      <td>13088192.0</td>\n",
       "      <td>12835340.0</td>\n",
       "      <td>12614497.0</td>\n",
       "      <td>12109086.0</td>\n",
       "      <td>11690825.0</td>\n",
       "      <td>11247647.0</td>\n",
       "      <td>10438055.0</td>\n",
       "      <td>9793166.0</td>\n",
       "    </tr>\n",
       "    <tr>\n",
       "      <th>1</th>\n",
       "      <td>SP.POP.TOTL.MA.IN</td>\n",
       "      <td>Albania</td>\n",
       "      <td>1384548.0</td>\n",
       "      <td>1404454.0</td>\n",
       "      <td>1419264.0</td>\n",
       "      <td>1428828.0</td>\n",
       "      <td>1435881.0</td>\n",
       "      <td>1440219.0</td>\n",
       "      <td>1442176.0</td>\n",
       "      <td>1444890.0</td>\n",
       "      <td>...</td>\n",
       "      <td>1454108.0</td>\n",
       "      <td>1462978.0</td>\n",
       "      <td>1474838.0</td>\n",
       "      <td>1488396.0</td>\n",
       "      <td>1501918.0</td>\n",
       "      <td>1513578.0</td>\n",
       "      <td>1523393.0</td>\n",
       "      <td>1531532.0</td>\n",
       "      <td>1538490.0</td>\n",
       "      <td>1543533.0</td>\n",
       "    </tr>\n",
       "    <tr>\n",
       "      <th>2</th>\n",
       "      <td>SP.POP.TOTL.MA.IN</td>\n",
       "      <td>Algeria</td>\n",
       "      <td>22862237.0</td>\n",
       "      <td>22497244.0</td>\n",
       "      <td>22132899.0</td>\n",
       "      <td>21756903.0</td>\n",
       "      <td>21362603.0</td>\n",
       "      <td>20961313.0</td>\n",
       "      <td>20556314.0</td>\n",
       "      <td>20152232.0</td>\n",
       "      <td>...</td>\n",
       "      <td>17573708.0</td>\n",
       "      <td>17249096.0</td>\n",
       "      <td>16941031.0</td>\n",
       "      <td>16653361.0</td>\n",
       "      <td>16384158.0</td>\n",
       "      <td>16150274.0</td>\n",
       "      <td>15932047.0</td>\n",
       "      <td>15709725.0</td>\n",
       "      <td>15497822.0</td>\n",
       "      <td>15288132.0</td>\n",
       "    </tr>\n",
       "    <tr>\n",
       "      <th>3</th>\n",
       "      <td>SP.POP.TOTL.MA.IN</td>\n",
       "      <td>American Samoa</td>\n",
       "      <td>21873.0</td>\n",
       "      <td>22289.0</td>\n",
       "      <td>22921.0</td>\n",
       "      <td>23535.0</td>\n",
       "      <td>24134.0</td>\n",
       "      <td>24701.0</td>\n",
       "      <td>25240.0</td>\n",
       "      <td>25739.0</td>\n",
       "      <td>...</td>\n",
       "      <td>27189.0</td>\n",
       "      <td>27406.0</td>\n",
       "      <td>27626.0</td>\n",
       "      <td>27842.0</td>\n",
       "      <td>28044.0</td>\n",
       "      <td>28230.0</td>\n",
       "      <td>28392.0</td>\n",
       "      <td>28521.0</td>\n",
       "      <td>28608.0</td>\n",
       "      <td>28649.0</td>\n",
       "    </tr>\n",
       "    <tr>\n",
       "      <th>4</th>\n",
       "      <td>SP.POP.TOTL.MA.IN</td>\n",
       "      <td>Andorra</td>\n",
       "      <td>40786.0</td>\n",
       "      <td>40361.0</td>\n",
       "      <td>39615.0</td>\n",
       "      <td>38842.0</td>\n",
       "      <td>38071.0</td>\n",
       "      <td>37380.0</td>\n",
       "      <td>36628.0</td>\n",
       "      <td>36188.0</td>\n",
       "      <td>...</td>\n",
       "      <td>35212.0</td>\n",
       "      <td>36065.0</td>\n",
       "      <td>36864.0</td>\n",
       "      <td>37633.0</td>\n",
       "      <td>38392.0</td>\n",
       "      <td>38147.0</td>\n",
       "      <td>36852.0</td>\n",
       "      <td>35478.0</td>\n",
       "      <td>34076.0</td>\n",
       "      <td>32669.0</td>\n",
       "    </tr>\n",
       "    <tr>\n",
       "      <th>...</th>\n",
       "      <td>...</td>\n",
       "      <td>...</td>\n",
       "      <td>...</td>\n",
       "      <td>...</td>\n",
       "      <td>...</td>\n",
       "      <td>...</td>\n",
       "      <td>...</td>\n",
       "      <td>...</td>\n",
       "      <td>...</td>\n",
       "      <td>...</td>\n",
       "      <td>...</td>\n",
       "      <td>...</td>\n",
       "      <td>...</td>\n",
       "      <td>...</td>\n",
       "      <td>...</td>\n",
       "      <td>...</td>\n",
       "      <td>...</td>\n",
       "      <td>...</td>\n",
       "      <td>...</td>\n",
       "      <td>...</td>\n",
       "      <td>...</td>\n",
       "    </tr>\n",
       "    <tr>\n",
       "      <th>212</th>\n",
       "      <td>SP.POP.TOTL.MA.IN</td>\n",
       "      <td>Virgin Islands (U.S.)</td>\n",
       "      <td>49137.0</td>\n",
       "      <td>49510.0</td>\n",
       "      <td>49866.0</td>\n",
       "      <td>50196.0</td>\n",
       "      <td>50489.0</td>\n",
       "      <td>50759.0</td>\n",
       "      <td>50999.0</td>\n",
       "      <td>51208.0</td>\n",
       "      <td>...</td>\n",
       "      <td>56560.0</td>\n",
       "      <td>56549.0</td>\n",
       "      <td>56507.0</td>\n",
       "      <td>56467.0</td>\n",
       "      <td>56492.0</td>\n",
       "      <td>56555.0</td>\n",
       "      <td>56593.0</td>\n",
       "      <td>56652.0</td>\n",
       "      <td>56692.0</td>\n",
       "      <td>56744.0</td>\n",
       "    </tr>\n",
       "    <tr>\n",
       "      <th>213</th>\n",
       "      <td>SP.POP.TOTL.MA.IN</td>\n",
       "      <td>West Bank and Gaza</td>\n",
       "      <td>2516444.0</td>\n",
       "      <td>2455361.0</td>\n",
       "      <td>2394860.0</td>\n",
       "      <td>2334948.0</td>\n",
       "      <td>2275925.0</td>\n",
       "      <td>2217868.0</td>\n",
       "      <td>2173706.0</td>\n",
       "      <td>2125660.0</td>\n",
       "      <td>...</td>\n",
       "      <td>1897763.0</td>\n",
       "      <td>1848287.0</td>\n",
       "      <td>1798811.0</td>\n",
       "      <td>1749079.0</td>\n",
       "      <td>1703735.0</td>\n",
       "      <td>1659247.0</td>\n",
       "      <td>1615402.0</td>\n",
       "      <td>1572199.0</td>\n",
       "      <td>1530053.0</td>\n",
       "      <td>1489250.0</td>\n",
       "    </tr>\n",
       "    <tr>\n",
       "      <th>214</th>\n",
       "      <td>SP.POP.TOTL.MA.IN</td>\n",
       "      <td>Yemen, Rep.</td>\n",
       "      <td>17023203.0</td>\n",
       "      <td>16668432.0</td>\n",
       "      <td>16320979.0</td>\n",
       "      <td>15953578.0</td>\n",
       "      <td>15578957.0</td>\n",
       "      <td>15202496.0</td>\n",
       "      <td>14820156.0</td>\n",
       "      <td>14439156.0</td>\n",
       "      <td>...</td>\n",
       "      <td>12224951.0</td>\n",
       "      <td>11874775.0</td>\n",
       "      <td>11531790.0</td>\n",
       "      <td>11195418.0</td>\n",
       "      <td>10864747.0</td>\n",
       "      <td>10548931.0</td>\n",
       "      <td>10262472.0</td>\n",
       "      <td>9997157.0</td>\n",
       "      <td>9739899.0</td>\n",
       "      <td>9488026.0</td>\n",
       "    </tr>\n",
       "    <tr>\n",
       "      <th>215</th>\n",
       "      <td>SP.POP.TOTL.MA.IN</td>\n",
       "      <td>Zambia</td>\n",
       "      <td>9877642.0</td>\n",
       "      <td>9609004.0</td>\n",
       "      <td>9338613.0</td>\n",
       "      <td>9066397.0</td>\n",
       "      <td>8794716.0</td>\n",
       "      <td>8525934.0</td>\n",
       "      <td>8260471.0</td>\n",
       "      <td>8000338.0</td>\n",
       "      <td>...</td>\n",
       "      <td>7026189.0</td>\n",
       "      <td>6794701.0</td>\n",
       "      <td>6569350.0</td>\n",
       "      <td>6351748.0</td>\n",
       "      <td>6144175.0</td>\n",
       "      <td>5947650.0</td>\n",
       "      <td>5764425.0</td>\n",
       "      <td>5593084.0</td>\n",
       "      <td>5431354.0</td>\n",
       "      <td>5276383.0</td>\n",
       "    </tr>\n",
       "    <tr>\n",
       "      <th>216</th>\n",
       "      <td>SP.POP.TOTL.MA.IN</td>\n",
       "      <td>Zimbabwe</td>\n",
       "      <td>7705601.0</td>\n",
       "      <td>7543690.0</td>\n",
       "      <td>7385220.0</td>\n",
       "      <td>7231989.0</td>\n",
       "      <td>7086002.0</td>\n",
       "      <td>6940631.0</td>\n",
       "      <td>6796658.0</td>\n",
       "      <td>6652836.0</td>\n",
       "      <td>...</td>\n",
       "      <td>6805605.0</td>\n",
       "      <td>6714016.0</td>\n",
       "      <td>6638373.0</td>\n",
       "      <td>6578079.0</td>\n",
       "      <td>6511613.0</td>\n",
       "      <td>6450827.0</td>\n",
       "      <td>6405855.0</td>\n",
       "      <td>6353380.0</td>\n",
       "      <td>6300516.0</td>\n",
       "      <td>6257972.0</td>\n",
       "    </tr>\n",
       "  </tbody>\n",
       "</table>\n",
       "<p>217 rows × 47 columns</p>\n",
       "</div>"
      ],
      "text/plain": [
       "      Series Code_male           Country Name   2022_male   2021_male  \\\n",
       "0    SP.POP.TOTL.MA.IN            Afghanistan  20766442.0  20254878.0   \n",
       "1    SP.POP.TOTL.MA.IN                Albania   1384548.0   1404454.0   \n",
       "2    SP.POP.TOTL.MA.IN                Algeria  22862237.0  22497244.0   \n",
       "3    SP.POP.TOTL.MA.IN         American Samoa     21873.0     22289.0   \n",
       "4    SP.POP.TOTL.MA.IN                Andorra     40786.0     40361.0   \n",
       "..                 ...                    ...         ...         ...   \n",
       "212  SP.POP.TOTL.MA.IN  Virgin Islands (U.S.)     49137.0     49510.0   \n",
       "213  SP.POP.TOTL.MA.IN     West Bank and Gaza   2516444.0   2455361.0   \n",
       "214  SP.POP.TOTL.MA.IN            Yemen, Rep.  17023203.0  16668432.0   \n",
       "215  SP.POP.TOTL.MA.IN                 Zambia   9877642.0   9609004.0   \n",
       "216  SP.POP.TOTL.MA.IN               Zimbabwe   7705601.0   7543690.0   \n",
       "\n",
       "      2020_male   2019_male   2018_male   2017_male   2016_male   2015_male  \\\n",
       "0    19692301.0  19090409.0  18549862.0  18028696.0  17520861.0  17071446.0   \n",
       "1     1419264.0   1428828.0   1435881.0   1440219.0   1442176.0   1444890.0   \n",
       "2    22132899.0  21756903.0  21362603.0  20961313.0  20556314.0  20152232.0   \n",
       "3       22921.0     23535.0     24134.0     24701.0     25240.0     25739.0   \n",
       "4       39615.0     38842.0     38071.0     37380.0     36628.0     36188.0   \n",
       "..          ...         ...         ...         ...         ...         ...   \n",
       "212     49866.0     50196.0     50489.0     50759.0     50999.0     51208.0   \n",
       "213   2394860.0   2334948.0   2275925.0   2217868.0   2173706.0   2125660.0   \n",
       "214  16320979.0  15953578.0  15578957.0  15202496.0  14820156.0  14439156.0   \n",
       "215   9338613.0   9066397.0   8794716.0   8525934.0   8260471.0   8000338.0   \n",
       "216   7385220.0   7231989.0   7086002.0   6940631.0   6796658.0   6652836.0   \n",
       "\n",
       "     ...  2010_female  2009_female  2008_female  2007_female  2006_female  \\\n",
       "0    ...   13949295.0   13557331.0   13088192.0   12835340.0   12614497.0   \n",
       "1    ...    1454108.0    1462978.0    1474838.0    1488396.0    1501918.0   \n",
       "2    ...   17573708.0   17249096.0   16941031.0   16653361.0   16384158.0   \n",
       "3    ...      27189.0      27406.0      27626.0      27842.0      28044.0   \n",
       "4    ...      35212.0      36065.0      36864.0      37633.0      38392.0   \n",
       "..   ...          ...          ...          ...          ...          ...   \n",
       "212  ...      56560.0      56549.0      56507.0      56467.0      56492.0   \n",
       "213  ...    1897763.0    1848287.0    1798811.0    1749079.0    1703735.0   \n",
       "214  ...   12224951.0   11874775.0   11531790.0   11195418.0   10864747.0   \n",
       "215  ...    7026189.0    6794701.0    6569350.0    6351748.0    6144175.0   \n",
       "216  ...    6805605.0    6714016.0    6638373.0    6578079.0    6511613.0   \n",
       "\n",
       "     2005_female  2004_female  2003_female  2002_female  2001_female  \n",
       "0     12109086.0   11690825.0   11247647.0   10438055.0    9793166.0  \n",
       "1      1513578.0    1523393.0    1531532.0    1538490.0    1543533.0  \n",
       "2     16150274.0   15932047.0   15709725.0   15497822.0   15288132.0  \n",
       "3        28230.0      28392.0      28521.0      28608.0      28649.0  \n",
       "4        38147.0      36852.0      35478.0      34076.0      32669.0  \n",
       "..           ...          ...          ...          ...          ...  \n",
       "212      56555.0      56593.0      56652.0      56692.0      56744.0  \n",
       "213    1659247.0    1615402.0    1572199.0    1530053.0    1489250.0  \n",
       "214   10548931.0   10262472.0    9997157.0    9739899.0    9488026.0  \n",
       "215    5947650.0    5764425.0    5593084.0    5431354.0    5276383.0  \n",
       "216    6450827.0    6405855.0    6353380.0    6300516.0    6257972.0  \n",
       "\n",
       "[217 rows x 47 columns]"
      ]
     },
     "execution_count": 172,
     "metadata": {},
     "output_type": "execute_result"
    }
   ],
   "source": [
    "merged_data"
   ]
  },
  {
   "cell_type": "code",
   "execution_count": 173,
   "id": "c9a6aee5",
   "metadata": {},
   "outputs": [],
   "source": [
    "# Calculate the total population for each country (male + female)\n",
    "merged_data[\"Total Population\"] = merged_data[\"2022_male\"] + merged_data[\"2022_female\"]"
   ]
  },
  {
   "cell_type": "code",
   "execution_count": 174,
   "id": "ae36d2c4",
   "metadata": {},
   "outputs": [
    {
     "data": {
      "text/html": [
       "<div>\n",
       "<style scoped>\n",
       "    .dataframe tbody tr th:only-of-type {\n",
       "        vertical-align: middle;\n",
       "    }\n",
       "\n",
       "    .dataframe tbody tr th {\n",
       "        vertical-align: top;\n",
       "    }\n",
       "\n",
       "    .dataframe thead th {\n",
       "        text-align: right;\n",
       "    }\n",
       "</style>\n",
       "<table border=\"1\" class=\"dataframe\">\n",
       "  <thead>\n",
       "    <tr style=\"text-align: right;\">\n",
       "      <th></th>\n",
       "      <th>Series Code_male</th>\n",
       "      <th>Country Name</th>\n",
       "      <th>2022_male</th>\n",
       "      <th>2021_male</th>\n",
       "      <th>2020_male</th>\n",
       "      <th>2019_male</th>\n",
       "      <th>2018_male</th>\n",
       "      <th>2017_male</th>\n",
       "      <th>2016_male</th>\n",
       "      <th>2015_male</th>\n",
       "      <th>...</th>\n",
       "      <th>2009_female</th>\n",
       "      <th>2008_female</th>\n",
       "      <th>2007_female</th>\n",
       "      <th>2006_female</th>\n",
       "      <th>2005_female</th>\n",
       "      <th>2004_female</th>\n",
       "      <th>2003_female</th>\n",
       "      <th>2002_female</th>\n",
       "      <th>2001_female</th>\n",
       "      <th>Total Population</th>\n",
       "    </tr>\n",
       "  </thead>\n",
       "  <tbody>\n",
       "    <tr>\n",
       "      <th>0</th>\n",
       "      <td>SP.POP.TOTL.MA.IN</td>\n",
       "      <td>Afghanistan</td>\n",
       "      <td>20766442.0</td>\n",
       "      <td>20254878.0</td>\n",
       "      <td>19692301.0</td>\n",
       "      <td>19090409.0</td>\n",
       "      <td>18549862.0</td>\n",
       "      <td>18028696.0</td>\n",
       "      <td>17520861.0</td>\n",
       "      <td>17071446.0</td>\n",
       "      <td>...</td>\n",
       "      <td>13557331.0</td>\n",
       "      <td>13088192.0</td>\n",
       "      <td>12835340.0</td>\n",
       "      <td>12614497.0</td>\n",
       "      <td>12109086.0</td>\n",
       "      <td>11690825.0</td>\n",
       "      <td>11247647.0</td>\n",
       "      <td>10438055.0</td>\n",
       "      <td>9793166.0</td>\n",
       "      <td>41128771.0</td>\n",
       "    </tr>\n",
       "    <tr>\n",
       "      <th>1</th>\n",
       "      <td>SP.POP.TOTL.MA.IN</td>\n",
       "      <td>Albania</td>\n",
       "      <td>1384548.0</td>\n",
       "      <td>1404454.0</td>\n",
       "      <td>1419264.0</td>\n",
       "      <td>1428828.0</td>\n",
       "      <td>1435881.0</td>\n",
       "      <td>1440219.0</td>\n",
       "      <td>1442176.0</td>\n",
       "      <td>1444890.0</td>\n",
       "      <td>...</td>\n",
       "      <td>1462978.0</td>\n",
       "      <td>1474838.0</td>\n",
       "      <td>1488396.0</td>\n",
       "      <td>1501918.0</td>\n",
       "      <td>1513578.0</td>\n",
       "      <td>1523393.0</td>\n",
       "      <td>1531532.0</td>\n",
       "      <td>1538490.0</td>\n",
       "      <td>1543533.0</td>\n",
       "      <td>2775633.0</td>\n",
       "    </tr>\n",
       "    <tr>\n",
       "      <th>2</th>\n",
       "      <td>SP.POP.TOTL.MA.IN</td>\n",
       "      <td>Algeria</td>\n",
       "      <td>22862237.0</td>\n",
       "      <td>22497244.0</td>\n",
       "      <td>22132899.0</td>\n",
       "      <td>21756903.0</td>\n",
       "      <td>21362603.0</td>\n",
       "      <td>20961313.0</td>\n",
       "      <td>20556314.0</td>\n",
       "      <td>20152232.0</td>\n",
       "      <td>...</td>\n",
       "      <td>17249096.0</td>\n",
       "      <td>16941031.0</td>\n",
       "      <td>16653361.0</td>\n",
       "      <td>16384158.0</td>\n",
       "      <td>16150274.0</td>\n",
       "      <td>15932047.0</td>\n",
       "      <td>15709725.0</td>\n",
       "      <td>15497822.0</td>\n",
       "      <td>15288132.0</td>\n",
       "      <td>44903224.0</td>\n",
       "    </tr>\n",
       "    <tr>\n",
       "      <th>3</th>\n",
       "      <td>SP.POP.TOTL.MA.IN</td>\n",
       "      <td>American Samoa</td>\n",
       "      <td>21873.0</td>\n",
       "      <td>22289.0</td>\n",
       "      <td>22921.0</td>\n",
       "      <td>23535.0</td>\n",
       "      <td>24134.0</td>\n",
       "      <td>24701.0</td>\n",
       "      <td>25240.0</td>\n",
       "      <td>25739.0</td>\n",
       "      <td>...</td>\n",
       "      <td>27406.0</td>\n",
       "      <td>27626.0</td>\n",
       "      <td>27842.0</td>\n",
       "      <td>28044.0</td>\n",
       "      <td>28230.0</td>\n",
       "      <td>28392.0</td>\n",
       "      <td>28521.0</td>\n",
       "      <td>28608.0</td>\n",
       "      <td>28649.0</td>\n",
       "      <td>44272.0</td>\n",
       "    </tr>\n",
       "    <tr>\n",
       "      <th>4</th>\n",
       "      <td>SP.POP.TOTL.MA.IN</td>\n",
       "      <td>Andorra</td>\n",
       "      <td>40786.0</td>\n",
       "      <td>40361.0</td>\n",
       "      <td>39615.0</td>\n",
       "      <td>38842.0</td>\n",
       "      <td>38071.0</td>\n",
       "      <td>37380.0</td>\n",
       "      <td>36628.0</td>\n",
       "      <td>36188.0</td>\n",
       "      <td>...</td>\n",
       "      <td>36065.0</td>\n",
       "      <td>36864.0</td>\n",
       "      <td>37633.0</td>\n",
       "      <td>38392.0</td>\n",
       "      <td>38147.0</td>\n",
       "      <td>36852.0</td>\n",
       "      <td>35478.0</td>\n",
       "      <td>34076.0</td>\n",
       "      <td>32669.0</td>\n",
       "      <td>79824.0</td>\n",
       "    </tr>\n",
       "  </tbody>\n",
       "</table>\n",
       "<p>5 rows × 48 columns</p>\n",
       "</div>"
      ],
      "text/plain": [
       "    Series Code_male    Country Name   2022_male   2021_male   2020_male  \\\n",
       "0  SP.POP.TOTL.MA.IN     Afghanistan  20766442.0  20254878.0  19692301.0   \n",
       "1  SP.POP.TOTL.MA.IN         Albania   1384548.0   1404454.0   1419264.0   \n",
       "2  SP.POP.TOTL.MA.IN         Algeria  22862237.0  22497244.0  22132899.0   \n",
       "3  SP.POP.TOTL.MA.IN  American Samoa     21873.0     22289.0     22921.0   \n",
       "4  SP.POP.TOTL.MA.IN         Andorra     40786.0     40361.0     39615.0   \n",
       "\n",
       "    2019_male   2018_male   2017_male   2016_male   2015_male  ...  \\\n",
       "0  19090409.0  18549862.0  18028696.0  17520861.0  17071446.0  ...   \n",
       "1   1428828.0   1435881.0   1440219.0   1442176.0   1444890.0  ...   \n",
       "2  21756903.0  21362603.0  20961313.0  20556314.0  20152232.0  ...   \n",
       "3     23535.0     24134.0     24701.0     25240.0     25739.0  ...   \n",
       "4     38842.0     38071.0     37380.0     36628.0     36188.0  ...   \n",
       "\n",
       "   2009_female  2008_female  2007_female  2006_female  2005_female  \\\n",
       "0   13557331.0   13088192.0   12835340.0   12614497.0   12109086.0   \n",
       "1    1462978.0    1474838.0    1488396.0    1501918.0    1513578.0   \n",
       "2   17249096.0   16941031.0   16653361.0   16384158.0   16150274.0   \n",
       "3      27406.0      27626.0      27842.0      28044.0      28230.0   \n",
       "4      36065.0      36864.0      37633.0      38392.0      38147.0   \n",
       "\n",
       "   2004_female  2003_female  2002_female  2001_female  Total Population  \n",
       "0   11690825.0   11247647.0   10438055.0    9793166.0        41128771.0  \n",
       "1    1523393.0    1531532.0    1538490.0    1543533.0         2775633.0  \n",
       "2   15932047.0   15709725.0   15497822.0   15288132.0        44903224.0  \n",
       "3      28392.0      28521.0      28608.0      28649.0           44272.0  \n",
       "4      36852.0      35478.0      34076.0      32669.0           79824.0  \n",
       "\n",
       "[5 rows x 48 columns]"
      ]
     },
     "execution_count": 174,
     "metadata": {},
     "output_type": "execute_result"
    }
   ],
   "source": [
    "merged_data.head()"
   ]
  },
  {
   "cell_type": "code",
   "execution_count": 175,
   "id": "fb4232a9",
   "metadata": {},
   "outputs": [],
   "source": [
    "# Sort data based on total population in descending order\n",
    "sorted_data = merged_data.sort_values(by=\"Total Population\", ascending=False)\n",
    "\n",
    "# Select the top 10 countries with the highest total population\n",
    "top_10_countries = sorted_data.head(10)"
   ]
  },
  {
   "cell_type": "code",
   "execution_count": 177,
   "id": "21b613ca",
   "metadata": {},
   "outputs": [
    {
     "data": {
      "image/png": "[encoded data removed]",
      "text/plain": [
       "<Figure size 1200x600 with 1 Axes>"
      ]
     },
     "metadata": {},
     "output_type": "display_data"
    }
   ],
   "source": [
    "# Create the stacked bar plot\n",
    "plt.figure(figsize=(12, 6))\n",
    "\n",
    "sns.barplot(x=\"Country Name\", y=\"2022_female\", data=top_10_countries, color=\"red\", label=\"Female Population\")\n",
    "sns.barplot(x=\"Country Name\", y=\"2022_male\", data=top_10_countries, bottom=top_10_countries[\"2022_female\"], color=\"green\", label=\"Male Population\")\n",
    "plt.title(\"Top 10 Countries with Male and Female Populations (2022)\")\n",
    "plt.xlabel(\"Country\")\n",
    "plt.ylabel(\"Population\")\n",
    "plt.legend()\n",
    "plt.xticks(rotation=45, ha=\"right\")\n",
    "plt.show()"
   ]
  }
 ],
 "metadata": {
  "kernelspec": {
   "display_name": "Python 3 (ipykernel)",
   "language": "python",
   "name": "python3"
  },
  "language_info": {
   "codemirror_mode": {
    "name": "ipython",
    "version": 3
   },
   "file_extension": ".py",
   "mimetype": "text/x-python",
   "name": "python",
   "nbconvert_exporter": "python",
   "pygments_lexer": "ipython3",
   "version": "3.11.5"
  },
  "toc": {
   "base_numbering": 1,
   "nav_menu": {},
   "number_sections": true,
   "sideBar": true,
   "skip_h1_title": false,
   "title_cell": "Table of Contents",
   "title_sidebar": "Contents",
   "toc_cell": false,
   "toc_position": {},
   "toc_section_display": true,
   "toc_window_display": false
  }
 },
 "nbformat": 4,
 "nbformat_minor": 5
}
